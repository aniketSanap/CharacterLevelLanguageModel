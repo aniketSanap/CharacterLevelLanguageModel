{
  "nbformat": 4,
  "nbformat_minor": 0,
  "metadata": {
    "accelerator": "GPU",
    "colab": {
      "name": "character_lstm.ipynb",
      "provenance": [],
      "collapsed_sections": []
    },
    "kernelspec": {
      "name": "python3",
      "display_name": "Python 3"
    },
    "language_info": {
      "codemirror_mode": {
        "name": "ipython",
        "version": 3
      },
      "file_extension": ".py",
      "mimetype": "text/x-python",
      "name": "python",
      "nbconvert_exporter": "python",
      "pygments_lexer": "ipython3",
      "version": "3.7.3"
    }
  },
  "cells": [
    {
      "cell_type": "code",
      "metadata": {
        "id": "J9fOB2_TUVcS",
        "colab_type": "code",
        "colab": {
          "base_uri": "https://localhost:8080/",
          "height": 121
        },
        "outputId": "259691f4-71e8-45e3-e788-910791034355"
      },
      "source": [
        "from google.colab import drive\n",
        "drive.mount('/content/drive')"
      ],
      "execution_count": 1,
      "outputs": [
        {
          "output_type": "stream",
          "text": [
            "Go to this URL in a browser: https://accounts.google.com/o/oauth2/auth?client_id=947318989803-6bn6qk8qdgf4n4g3pfee6491hc0brc4i.apps.googleusercontent.com&redirect_uri=urn%3aietf%3awg%3aoauth%3a2.0%3aoob&response_type=code&scope=email%20https%3a%2f%2fwww.googleapis.com%2fauth%2fdocs.test%20https%3a%2f%2fwww.googleapis.com%2fauth%2fdrive%20https%3a%2f%2fwww.googleapis.com%2fauth%2fdrive.photos.readonly%20https%3a%2f%2fwww.googleapis.com%2fauth%2fpeopleapi.readonly\n",
            "\n",
            "Enter your authorization code:\n",
            "··········\n",
            "Mounted at /content/drive\n"
          ],
          "name": "stdout"
        }
      ]
    },
    {
      "cell_type": "code",
      "metadata": {
        "colab_type": "code",
        "id": "M-e-ESNFWesG",
        "colab": {}
      },
      "source": [
        "import torch \n",
        "from torch import nn\n",
        "from torch.nn import functional as F\n",
        "from torch.utils.data import Dataset, DataLoader, random_split\n",
        "from string import printable\n",
        "import numpy as np\n"
      ],
      "execution_count": 0,
      "outputs": []
    },
    {
      "cell_type": "code",
      "metadata": {
        "colab_type": "code",
        "id": "-b7oOh0-w_C_",
        "colab": {}
      },
      "source": [
        "batch_size = 8\n",
        "with open('/content/drive/My Drive/Colab Notebooks/Practice/CharacterGeneration/file.txt', 'r') as f:\n",
        "    text = f.read()\n",
        "\n",
        "text_size = len(text)\n",
        "split_ratio = 0.9\n",
        "train_text = text[:int(split_ratio * text_size)]\n",
        "test_text = text[int(split_ratio * text_size):]"
      ],
      "execution_count": 0,
      "outputs": []
    },
    {
      "cell_type": "code",
      "metadata": {
        "colab_type": "code",
        "id": "jApfMNDUw_DB",
        "colab": {}
      },
      "source": [
        "class LanguageModelDatset(Dataset):\n",
        "    def __init__(self, text, sequence_length=100):\n",
        "        super().__init__()\n",
        "        self.device = torch.device('cuda' if torch.cuda.is_available() else 'cpu')\n",
        "        self.sequence_length = 100\n",
        "        self.text = text\n",
        "        self.itos = list(printable)\n",
        "        self.stoi = {char:int_ for int_, char in enumerate(self.itos)}\n",
        "        self.text_size = len(self.text)\n",
        "        \n",
        "    def one_hot_encoder(self, sequence):\n",
        "        size = len(self.stoi)\n",
        "\n",
        "        encoded = []\n",
        "        for int_ in sequence:\n",
        "            temp = torch.zeros(size)\n",
        "            temp[int_] = 1\n",
        "            encoded.append(temp)\n",
        "\n",
        "        for i in range(self.sequence_length - len(sequence) - 1):\n",
        "            temp = torch.zeros(size)\n",
        "            encoded.append(temp)\n",
        "\n",
        "        return torch.stack(encoded)\n",
        "        \n",
        "    def __len__(self):\n",
        "        return self.text_size // self.sequence_length\n",
        "    \n",
        "    def __getitem__(self, idx):\n",
        "        sequence = self.text[idx * self.sequence_length:(idx + 1) * self.sequence_length]\n",
        "        sequence = [self.stoi[x] for x in sequence]\n",
        "        x = sequence[:-1]\n",
        "        y = sequence[1:]\n",
        "        x = self.one_hot_encoder(x)\n",
        "        \n",
        "        return x, torch.tensor(y)\n",
        "        "
      ],
      "execution_count": 0,
      "outputs": []
    },
    {
      "cell_type": "code",
      "metadata": {
        "colab_type": "code",
        "id": "1qTTv7VJw_DD",
        "colab": {}
      },
      "source": [
        "max_test_loss = float('inf')\n",
        "train_dataset = LanguageModelDatset(train_text)\n",
        "test_dataset = LanguageModelDatset(test_text)\n",
        "train_dataloader = DataLoader(train_dataset, batch_size=batch_size)\n",
        "test_dataloader = DataLoader(test_dataset, batch_size=batch_size)"
      ],
      "execution_count": 0,
      "outputs": []
    },
    {
      "cell_type": "code",
      "metadata": {
        "colab_type": "code",
        "id": "cKP_4RZvw_DF",
        "outputId": "a725fb57-3405-4244-eeae-3a82f77dade2",
        "colab": {
          "base_uri": "https://localhost:8080/",
          "height": 50
        }
      },
      "source": [
        "print(train_dataset[0][0].shape)\n",
        "print(train_dataset[0][1].shape)"
      ],
      "execution_count": 6,
      "outputs": [
        {
          "output_type": "stream",
          "text": [
            "torch.Size([99, 100])\n",
            "torch.Size([99])\n"
          ],
          "name": "stdout"
        }
      ]
    },
    {
      "cell_type": "code",
      "metadata": {
        "colab_type": "code",
        "id": "j6X3rJMsqU3z",
        "colab": {}
      },
      "source": [
        "class CharLSTM(nn.Module):\n",
        "    def __init__(self, hidden_size=256, n_hidden_layers=3, dropout_prob=0.5):\n",
        "        super().__init__()\n",
        "        self.legal_chars = printable\n",
        "        self.hidden_size = hidden_size\n",
        "        self.n_hidden_layers = n_hidden_layers\n",
        "        self.device = torch.device('cuda' if torch.cuda.is_available() else 'cpu')\n",
        "        self.num_layers = n_hidden_layers\n",
        "        \n",
        "        self.lstm_layer = nn.LSTM(\n",
        "            input_size=len(self.legal_chars), \n",
        "            hidden_size=hidden_size, \n",
        "            num_layers=n_hidden_layers, \n",
        "            dropout=dropout_prob, \n",
        "            batch_first=True\n",
        "        )\n",
        "        self.dropout_layer = nn.Dropout(dropout_prob)\n",
        "        self.fc = nn.Linear(hidden_size, len(self.legal_chars))\n",
        "        self.to(self.device)\n",
        "\n",
        "    def forward(self, x):\n",
        "        self.hidden = self.hidden.detach()\n",
        "        self.cell = self.cell.detach()\n",
        "        x = x.to(self.device)\n",
        "        lstm_output, (self.hidden, self.cell) = self.lstm_layer(x, (self.hidden, self.cell))\n",
        "        output = self.dropout_layer(lstm_output)\n",
        "        output = output.reshape(-1, self.hidden_size)\n",
        "        return self.fc(output)\n",
        "\n",
        "    def init_hidden(self, batch_size):\n",
        "        # hidden state and cell state\n",
        "        self.hidden, self.cell = [torch.zeros(self.num_layers, batch_size, self.hidden_size).to(self.device), \n",
        "                torch.zeros(self.num_layers, batch_size, self.hidden_size).to(self.device)]"
      ],
      "execution_count": 0,
      "outputs": []
    },
    {
      "cell_type": "code",
      "metadata": {
        "colab_type": "code",
        "id": "8KLae7UXiD6D",
        "outputId": "fad08458-5f8f-439f-9ece-6af2f35b21de",
        "colab": {
          "base_uri": "https://localhost:8080/",
          "height": 101
        }
      },
      "source": [
        "model = CharLSTM()\n",
        "model"
      ],
      "execution_count": 8,
      "outputs": [
        {
          "output_type": "execute_result",
          "data": {
            "text/plain": [
              "CharLSTM(\n",
              "  (lstm_layer): LSTM(100, 256, num_layers=3, batch_first=True, dropout=0.5)\n",
              "  (dropout_layer): Dropout(p=0.5, inplace=False)\n",
              "  (fc): Linear(in_features=256, out_features=100, bias=True)\n",
              ")"
            ]
          },
          "metadata": {
            "tags": []
          },
          "execution_count": 8
        }
      ]
    },
    {
      "cell_type": "code",
      "metadata": {
        "colab_type": "code",
        "id": "B6rk1yHYw_DL",
        "colab": {}
      },
      "source": [
        "lr = 1e-3\n",
        "num_epochs = 10\n",
        "sequence_length = 99\n",
        "clip = 5\n",
        "model_path = '/content/drive/My Drive/Colab Notebooks/Practice/CharacterGeneration/model.pth'"
      ],
      "execution_count": 0,
      "outputs": []
    },
    {
      "cell_type": "code",
      "metadata": {
        "colab_type": "code",
        "id": "KdjxGRIo1aVs",
        "colab": {
          "base_uri": "https://localhost:8080/",
          "height": 34
        },
        "outputId": "89f228ce-e775-40b8-f111-c22eaf6526b0"
      },
      "source": [
        "import os\n",
        "\n",
        "\n",
        "def save_weights(model, path):\n",
        "    torch.save(model.state_dict(), path)\n",
        "    \n",
        "def load_weights(model, path, test=False):\n",
        "    model.load_state_dict(torch.load(path))\n",
        "    if test:\n",
        "        model.eval()\n",
        "    else:\n",
        "        model.train()\n",
        "\n",
        "if os.path.exists(model_path):\n",
        "    print('Existing model found!')\n",
        "    load_weights(model, model_path)\n",
        "    \n",
        "else:\n",
        "    print('No existing model.')"
      ],
      "execution_count": 11,
      "outputs": [
        {
          "output_type": "stream",
          "text": [
            "No existing model.\n"
          ],
          "name": "stdout"
        }
      ]
    },
    {
      "cell_type": "code",
      "metadata": {
        "colab_type": "code",
        "id": "fYyKd1Nbw_DN",
        "outputId": "2ccc1bc4-0ec1-4aa3-85ea-ed97544e1fec",
        "colab": {
          "base_uri": "https://localhost:8080/",
          "height": 1000
        }
      },
      "source": [
        "opt = torch.optim.Adam(model.parameters(), lr=lr)\n",
        "criterion = nn.CrossEntropyLoss()\n",
        "print_every = 500\n",
        "\n",
        "for epoch in range(num_epochs):\n",
        "    model.train()\n",
        "    model.init_hidden(batch_size)\n",
        "    counter = 0\n",
        "    for x, y in train_dataloader:\n",
        "        if x.shape[0] != batch_size:\n",
        "            continue\n",
        "        counter += 1\n",
        "        opt.zero_grad()\n",
        "        output = model(x)\n",
        "        loss = criterion(output, y.long().view(-1,).to(model.device))\n",
        "        loss.backward()\n",
        "        nn.utils.clip_grad_norm_(model.parameters(), clip)\n",
        "        opt.step()\n",
        "\n",
        "        if counter % print_every == 0:\n",
        "            print(\"Epoch: {}/{}...\".format(epoch+1, num_epochs),\n",
        "                  \"Step: {}...\".format(counter),\n",
        "                  \"Loss: {:.4f}...\".format(loss.item()))\n",
        "            \n",
        "    with torch.no_grad():\n",
        "        model.eval()\n",
        "        test_loss = 0\n",
        "        total = len(test_dataset)\n",
        "        for x, y in test_dataloader:\n",
        "            if x.shape[0] != batch_size:\n",
        "                continue\n",
        "            opt.zero_grad()\n",
        "            output = model(x)\n",
        "            loss = criterion(output, y.long().view(-1,).to(model.device))\n",
        "            test_loss += loss.item()\n",
        "\n",
        "        print(f'=' * 8 + f'\\nTest loss: {test_loss/total}\\n' + '=' * 8)\n",
        "        if test_loss < max_test_loss:\n",
        "            max_test_loss = test_loss\n",
        "            save_weights(model, model_path)\n"
      ],
      "execution_count": 20,
      "outputs": [
        {
          "output_type": "stream",
          "text": [
            "Epoch: 1/10... Step: 500... Loss: 1.3991...\n",
            "Epoch: 1/10... Step: 1000... Loss: 1.2480...\n",
            "Epoch: 1/10... Step: 1500... Loss: 1.5717...\n",
            "Epoch: 1/10... Step: 2000... Loss: 1.3722...\n",
            "Epoch: 1/10... Step: 2500... Loss: 1.5337...\n",
            "Epoch: 1/10... Step: 3000... Loss: 1.4409...\n",
            "Epoch: 1/10... Step: 3500... Loss: 1.3209...\n",
            "Epoch: 1/10... Step: 4000... Loss: 1.4717...\n",
            "Epoch: 1/10... Step: 4500... Loss: 1.4736...\n",
            "Epoch: 1/10... Step: 5000... Loss: 1.4376...\n",
            "Epoch: 1/10... Step: 5500... Loss: 1.4301...\n",
            "Epoch: 1/10... Step: 6000... Loss: 1.4231...\n",
            "Epoch: 1/10... Step: 6500... Loss: 1.3491...\n",
            "Epoch: 1/10... Step: 7000... Loss: 1.5761...\n",
            "========\n",
            "Test loss: 0.16586940247955417\n",
            "========\n",
            "Epoch: 2/10... Step: 500... Loss: 1.3886...\n",
            "Epoch: 2/10... Step: 1000... Loss: 1.2528...\n",
            "Epoch: 2/10... Step: 1500... Loss: 1.5512...\n",
            "Epoch: 2/10... Step: 2000... Loss: 1.3810...\n",
            "Epoch: 2/10... Step: 2500... Loss: 1.6003...\n",
            "Epoch: 2/10... Step: 3000... Loss: 1.4184...\n",
            "Epoch: 2/10... Step: 3500... Loss: 1.3155...\n",
            "Epoch: 2/10... Step: 4000... Loss: 1.4515...\n",
            "Epoch: 2/10... Step: 4500... Loss: 1.4937...\n",
            "Epoch: 2/10... Step: 5000... Loss: 1.4362...\n",
            "Epoch: 2/10... Step: 5500... Loss: 1.4831...\n",
            "Epoch: 2/10... Step: 6000... Loss: 1.4833...\n",
            "Epoch: 2/10... Step: 6500... Loss: 1.4019...\n",
            "Epoch: 2/10... Step: 7000... Loss: 1.5632...\n",
            "========\n",
            "Test loss: 0.16568365461964626\n",
            "========\n",
            "Epoch: 3/10... Step: 500... Loss: 1.3585...\n",
            "Epoch: 3/10... Step: 1000... Loss: 1.2417...\n",
            "Epoch: 3/10... Step: 1500... Loss: 1.5405...\n",
            "Epoch: 3/10... Step: 2000... Loss: 1.3688...\n",
            "Epoch: 3/10... Step: 2500... Loss: 1.5991...\n",
            "Epoch: 3/10... Step: 3000... Loss: 1.4192...\n",
            "Epoch: 3/10... Step: 3500... Loss: 1.3415...\n",
            "Epoch: 3/10... Step: 4000... Loss: 1.4475...\n",
            "Epoch: 3/10... Step: 4500... Loss: 1.5166...\n",
            "Epoch: 3/10... Step: 5000... Loss: 1.4807...\n",
            "Epoch: 3/10... Step: 5500... Loss: 1.4319...\n",
            "Epoch: 3/10... Step: 6000... Loss: 1.4170...\n",
            "Epoch: 3/10... Step: 6500... Loss: 1.3250...\n",
            "Epoch: 3/10... Step: 7000... Loss: 1.5826...\n",
            "========\n",
            "Test loss: 0.16541505931004\n",
            "========\n",
            "Epoch: 4/10... Step: 500... Loss: 1.3816...\n",
            "Epoch: 4/10... Step: 1000... Loss: 1.2208...\n",
            "Epoch: 4/10... Step: 1500... Loss: 1.5738...\n",
            "Epoch: 4/10... Step: 2000... Loss: 1.3710...\n",
            "Epoch: 4/10... Step: 2500... Loss: 1.5728...\n",
            "Epoch: 4/10... Step: 3000... Loss: 1.4099...\n",
            "Epoch: 4/10... Step: 3500... Loss: 1.3119...\n",
            "Epoch: 4/10... Step: 4000... Loss: 1.4244...\n",
            "Epoch: 4/10... Step: 4500... Loss: 1.4877...\n",
            "Epoch: 4/10... Step: 5000... Loss: 1.4533...\n",
            "Epoch: 4/10... Step: 5500... Loss: 1.4301...\n",
            "Epoch: 4/10... Step: 6000... Loss: 1.4349...\n",
            "Epoch: 4/10... Step: 6500... Loss: 1.3310...\n",
            "Epoch: 4/10... Step: 7000... Loss: 1.5495...\n",
            "========\n",
            "Test loss: 0.1654457649096264\n",
            "========\n",
            "Epoch: 5/10... Step: 500... Loss: 1.3979...\n",
            "Epoch: 5/10... Step: 1000... Loss: 1.2259...\n",
            "Epoch: 5/10... Step: 1500... Loss: 1.5495...\n",
            "Epoch: 5/10... Step: 2000... Loss: 1.3427...\n",
            "Epoch: 5/10... Step: 2500... Loss: 1.5358...\n",
            "Epoch: 5/10... Step: 3000... Loss: 1.4579...\n",
            "Epoch: 5/10... Step: 3500... Loss: 1.3158...\n",
            "Epoch: 5/10... Step: 4000... Loss: 1.4471...\n",
            "Epoch: 5/10... Step: 4500... Loss: 1.4841...\n",
            "Epoch: 5/10... Step: 5000... Loss: 1.4883...\n",
            "Epoch: 5/10... Step: 5500... Loss: 1.4382...\n",
            "Epoch: 5/10... Step: 6000... Loss: 1.4590...\n",
            "Epoch: 5/10... Step: 6500... Loss: 1.3397...\n",
            "Epoch: 5/10... Step: 7000... Loss: 1.5660...\n",
            "========\n",
            "Test loss: 0.1651834695215935\n",
            "========\n",
            "Epoch: 6/10... Step: 500... Loss: 1.3876...\n",
            "Epoch: 6/10... Step: 1000... Loss: 1.2425...\n",
            "Epoch: 6/10... Step: 1500... Loss: 1.5586...\n",
            "Epoch: 6/10... Step: 2000... Loss: 1.3371...\n",
            "Epoch: 6/10... Step: 2500... Loss: 1.5721...\n",
            "Epoch: 6/10... Step: 3000... Loss: 1.4204...\n",
            "Epoch: 6/10... Step: 3500... Loss: 1.3028...\n",
            "Epoch: 6/10... Step: 4000... Loss: 1.4373...\n",
            "Epoch: 6/10... Step: 4500... Loss: 1.5185...\n",
            "Epoch: 6/10... Step: 5000... Loss: 1.4359...\n",
            "Epoch: 6/10... Step: 5500... Loss: 1.4307...\n",
            "Epoch: 6/10... Step: 6000... Loss: 1.4835...\n",
            "Epoch: 6/10... Step: 6500... Loss: 1.3854...\n",
            "Epoch: 6/10... Step: 7000... Loss: 1.5591...\n",
            "========\n",
            "Test loss: 0.16514713462785094\n",
            "========\n",
            "Epoch: 7/10... Step: 500... Loss: 1.4063...\n",
            "Epoch: 7/10... Step: 1000... Loss: 1.2189...\n",
            "Epoch: 7/10... Step: 1500... Loss: 1.5184...\n",
            "Epoch: 7/10... Step: 2000... Loss: 1.3453...\n",
            "Epoch: 7/10... Step: 2500... Loss: 1.5238...\n",
            "Epoch: 7/10... Step: 3000... Loss: 1.4065...\n",
            "Epoch: 7/10... Step: 3500... Loss: 1.3191...\n",
            "Epoch: 7/10... Step: 4000... Loss: 1.4505...\n",
            "Epoch: 7/10... Step: 4500... Loss: 1.4742...\n",
            "Epoch: 7/10... Step: 5000... Loss: 1.4620...\n",
            "Epoch: 7/10... Step: 5500... Loss: 1.4607...\n",
            "Epoch: 7/10... Step: 6000... Loss: 1.4406...\n",
            "Epoch: 7/10... Step: 6500... Loss: 1.3573...\n",
            "Epoch: 7/10... Step: 7000... Loss: 1.5522...\n",
            "========\n",
            "Test loss: 0.16499993845839217\n",
            "========\n",
            "Epoch: 8/10... Step: 500... Loss: 1.3533...\n",
            "Epoch: 8/10... Step: 1000... Loss: 1.2316...\n",
            "Epoch: 8/10... Step: 1500... Loss: 1.5290...\n",
            "Epoch: 8/10... Step: 2000... Loss: 1.3491...\n",
            "Epoch: 8/10... Step: 2500... Loss: 1.4765...\n",
            "Epoch: 8/10... Step: 3000... Loss: 1.4251...\n",
            "Epoch: 8/10... Step: 3500... Loss: 1.3085...\n",
            "Epoch: 8/10... Step: 4000... Loss: 1.4646...\n",
            "Epoch: 8/10... Step: 4500... Loss: 1.4884...\n",
            "Epoch: 8/10... Step: 5000... Loss: 1.4464...\n",
            "Epoch: 8/10... Step: 5500... Loss: 1.4598...\n",
            "Epoch: 8/10... Step: 6000... Loss: 1.4421...\n",
            "Epoch: 8/10... Step: 6500... Loss: 1.3270...\n",
            "Epoch: 8/10... Step: 7000... Loss: 1.5429...\n",
            "========\n",
            "Test loss: 0.16471039277382787\n",
            "========\n",
            "Epoch: 9/10... Step: 500... Loss: 1.3665...\n",
            "Epoch: 9/10... Step: 1000... Loss: 1.2236...\n",
            "Epoch: 9/10... Step: 1500... Loss: 1.5313...\n",
            "Epoch: 9/10... Step: 2000... Loss: 1.3619...\n",
            "Epoch: 9/10... Step: 2500... Loss: 1.5584...\n",
            "Epoch: 9/10... Step: 3000... Loss: 1.4230...\n",
            "Epoch: 9/10... Step: 3500... Loss: 1.3104...\n",
            "Epoch: 9/10... Step: 4000... Loss: 1.4291...\n",
            "Epoch: 9/10... Step: 4500... Loss: 1.4856...\n",
            "Epoch: 9/10... Step: 5000... Loss: 1.4525...\n",
            "Epoch: 9/10... Step: 5500... Loss: 1.4328...\n",
            "Epoch: 9/10... Step: 6000... Loss: 1.4221...\n",
            "Epoch: 9/10... Step: 6500... Loss: 1.3637...\n",
            "Epoch: 9/10... Step: 7000... Loss: 1.5357...\n",
            "========\n",
            "Test loss: 0.16478036176812605\n",
            "========\n",
            "Epoch: 10/10... Step: 500... Loss: 1.3986...\n",
            "Epoch: 10/10... Step: 1000... Loss: 1.2370...\n",
            "Epoch: 10/10... Step: 1500... Loss: 1.5487...\n",
            "Epoch: 10/10... Step: 2000... Loss: 1.3706...\n",
            "Epoch: 10/10... Step: 2500... Loss: 1.5215...\n",
            "Epoch: 10/10... Step: 3000... Loss: 1.4342...\n",
            "Epoch: 10/10... Step: 3500... Loss: 1.2810...\n",
            "Epoch: 10/10... Step: 4000... Loss: 1.4049...\n",
            "Epoch: 10/10... Step: 4500... Loss: 1.4435...\n",
            "Epoch: 10/10... Step: 5000... Loss: 1.4538...\n",
            "Epoch: 10/10... Step: 5500... Loss: 1.4302...\n",
            "Epoch: 10/10... Step: 6000... Loss: 1.4600...\n",
            "Epoch: 10/10... Step: 6500... Loss: 1.3211...\n",
            "Epoch: 10/10... Step: 7000... Loss: 1.5608...\n",
            "========\n",
            "Test loss: 0.16468678243824694\n",
            "========\n"
          ],
          "name": "stdout"
        }
      ]
    },
    {
      "cell_type": "code",
      "metadata": {
        "colab_type": "code",
        "id": "C_aOjiNDC0-V",
        "colab": {}
      },
      "source": [
        "def predict_next_char(model, char, h=None):\n",
        "    global test_dataset\n",
        "    model.eval()\n",
        "    char_vector = test_dataset.one_hot_encoder([char])[0]\n",
        "    char_vector = char_vector.reshape(1, 1, *char_vector.shape)\n",
        "    with torch.no_grad():\n",
        "        model.hidden, model.cell = h\n",
        "        output = model.forward(char_vector.to(model.device))\n",
        "        h = (model.hidden, model.cell)\n",
        "        probs = F.softmax(output, dim=1)\n",
        "\n",
        "        # Sampling from a distribution to add randomness\n",
        "        dist = torch.distributions.Categorical(probs)\n",
        "        index = dist.sample().item()\n",
        "        return index, h\n",
        "\n",
        "def generate_chars(model, n_chars, prime='The'):\n",
        "    global test_dataset\n",
        "    model.eval()\n",
        "    model.init_hidden(1)\n",
        "    h = (model.hidden, model.cell)\n",
        "\n",
        "    for char in [test_dataset.stoi[x] for x in prime]:\n",
        "        _, h = predict_next_char(model, char, h)\n",
        "\n",
        "    chars = []\n",
        "\n",
        "    for i in range(n_chars):\n",
        "        char, h = predict_next_char(model, char, h)\n",
        "        chars.append(char)\n",
        "\n",
        "    return prime + ''.join([test_dataset.itos[x] for x in chars])\n",
        "\n"
      ],
      "execution_count": 0,
      "outputs": []
    },
    {
      "cell_type": "code",
      "metadata": {
        "colab_type": "code",
        "id": "rljo52-0SxfW",
        "outputId": "e36831db-59bd-43d2-cb08-6900903ef93a",
        "colab": {
          "base_uri": "https://localhost:8080/",
          "height": 574
        }
      },
      "source": [
        "print(generate_chars(model, n_chars=2000, prime='The'))"
      ],
      "execution_count": 22,
      "outputs": [
        {
          "output_type": "stream",
          "text": [
            "Thenoud. That may advents and then were what he had realized him to with it his word really he had hoped to gravely.\n",
            "\n",
            "The Girls were to\n",
            "directly down as Moscow \"and many name in Frenchsiatures: still tried\n",
            "to go\n",
            "to the man and took peasants with recembling officer replied.\n",
            "\n",
            "Without expectated her.\n",
            "\n",
            "\"To last after it of them; if he asked Doroth, do what a words she wrote out. Might Russia, and how he knew us to the princess. See Pierre close, I. When she saw the God, as he had khow. Napoleon's beauty-embings\n",
            "he\n",
            "opposite if and down to cur, beamed his spoze, remained gazed at his long dipfushius fur rash,\n",
            "went in land. The\n",
            "staff so endarked her stage.\n",
            "\n",
            "There, evidently sat people, paper the Emperor respect and had a quarter appear mighter\n",
            "and huers from the twill freed large. Count Molming which was loved to very offended kind collar out, and herself that like Borodino unattended to Prince Vasili. \"I must be done not become meeting his will, so. Ing a restraint from her resist up to a swerf and dispensation, Natasha, blostest gossip. These\n",
            "everywhere he frew four same to their faces which drawn out himself, but Pierre never just always like her and heard I may cause the officers for that-sobling have meant not la in her producefre princess.\n",
            "\n",
            "On the Sonya, was understood here they\n",
            "had thought the princess, the yellow an one had understanding a moment--motionless a thousands\n",
            "of a valand quarters. After the rubber word of how one interest less pulled on the bullet in the family.\n",
            "\n",
            "The Man.\n",
            "Petya spoke Pierre\n",
            "in his hearing an angry plundings. The hands of Pierre's resoluting that\n",
            "who would have so not having\n",
            "offended, sides to\n",
            "the men meeting Miss Rostov, had a suture was employed at the brought, and that reformed remorsing and provising as particularly finely and funday the weep of side, while he was the entristent fiolly in a schabaces were ridicules surely-electations to the clowar!\" he said that had been\n",
            "taken in\n",
            "the\n",
            "Russian French hamp lagerral Rather--what was not repu\n"
          ],
          "name": "stdout"
        }
      ]
    },
    {
      "cell_type": "code",
      "metadata": {
        "colab_type": "code",
        "id": "DUdegMsuiCyi",
        "colab": {}
      },
      "source": [
        ""
      ],
      "execution_count": 0,
      "outputs": []
    }
  ]
}